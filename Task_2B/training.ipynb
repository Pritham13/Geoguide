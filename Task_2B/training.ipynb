{
 "cells": [
  {
   "cell_type": "code",
   "execution_count": 45,
   "metadata": {},
   "outputs": [],
   "source": [
    "import numpy as np\n",
    "import cv2\n",
    "\n",
    "# import PIL.Image as Image\n",
    "import os\n",
    "\n",
    "import matplotlib.pylab as plt\n",
    "\n",
    "import tensorflow as tf\n",
    "import tensorflow_hub as hub\n",
    "\n",
    "from tensorflow import keras\n",
    "from tensorflow.keras import layers\n",
    "from tensorflow.keras.models import Sequential\n",
    "import glob"
   ]
  },
  {
   "cell_type": "code",
   "execution_count": 46,
   "metadata": {},
   "outputs": [],
   "source": [
    "IMAGE_SHAPE = (224, 224)\n",
    "\n",
    "classifier = tf.keras.Sequential([\n",
    "    hub.KerasLayer(\"https://tfhub.dev/google/tf2-preview/mobilenet_v2/classification/4\", input_shape=IMAGE_SHAPE+(3,))\n",
    "])"
   ]
  },
  {
   "cell_type": "code",
   "execution_count": 47,
   "metadata": {},
   "outputs": [],
   "source": [
    "train_images_dict = {\n",
    "    'combat': list(glob.glob('dataset_eyrc/Combat/*jpeg')),\n",
    "    'destroyedbuidings': list(glob.glob('dataset_eyrc/DestroyedBuildings/*jpeg')),\n",
    "    'fire': list(glob.glob('dataset_eyrc/Fire/*jpeg')),\n",
    "    'humaniatrianaid': list(glob.glob('dataset_eyrc/Humanitarian Aid and rehabilitation/*jpeg')),\n",
    "    'military': list(glob.glob('dataset_eyrc/Military vehicles and weapons/*jpeg')),\n",
    "}\n",
    "test_images_dict = {\n",
    "    'combat': list(glob.glob('test_dataset_eyrc/Combat/*jpeg')),\n",
    "    'destroyedbuidings': list(glob.glob('test_dataset_eyrc/DestroyedBuildings/*jpeg')),\n",
    "    'fire': list(glob.glob('test_dataset_eyrc/Fire/*jpeg')),\n",
    "    'humaniatrianaid': list(glob.glob('test_dataset_eyrc/Humanitarian Aid and rehabilitation/*jpeg')),\n",
    "    'military': list(glob.glob('test_dataset_eyrc/Military vehicles and weapons/*jpeg')),\n",
    "}\n",
    "\n"
   ]
  },
  {
   "cell_type": "code",
   "execution_count": 48,
   "metadata": {},
   "outputs": [],
   "source": [
    "labels_dict = {\n",
    "    'combat': 0,\n",
    "    'destroyedbuidings': 1,\n",
    "    'fire': 2,\n",
    "    'humaniatrianaid': 3,\n",
    "    'military': 4,\n",
    "}"
   ]
  },
  {
   "cell_type": "code",
   "execution_count": 54,
   "metadata": {},
   "outputs": [],
   "source": [
    "x_test, y_test,x_train,y_train = [], [],[],[]\n",
    "\n",
    "for name, images in train_images_dict.items():\n",
    "    for image in images:\n",
    "        img = cv2.imread(str(image))\n",
    "        resized_img = cv2.resize(img,(224,224))\n",
    "        x_train.append(resized_img)\n",
    "        y_train.append(labels_dict[name])\n",
    "for name, images in test_images_dict.items():\n",
    "    for image in images:\n",
    "        img = cv2.imread(str(image))\n",
    "        resized_img = cv2.resize(img,(224,224))\n",
    "        x_test.append(resized_img)\n",
    "        y_test.append(labels_dict[name])\n",
    "\n"
   ]
  },
  {
   "cell_type": "code",
   "execution_count": 55,
   "metadata": {},
   "outputs": [],
   "source": [
    "x_train = np.array(x_train)\n",
    "y_train = np.array(y_train)\n",
    "x_test = np.array(x_test)\n",
    "y_test = np.array(y_test)\n"
   ]
  },
  {
   "cell_type": "code",
   "execution_count": 51,
   "metadata": {},
   "outputs": [],
   "source": [
    "X_train_scaled = x_train / 255\n",
    "X_test_scaled = x_test / 255\n"
   ]
  },
  {
   "cell_type": "code",
   "execution_count": 74,
   "metadata": {},
   "outputs": [],
   "source": [
    "feature_extractor_model = \"https://tfhub.dev/google/tf2-preview/mobilenet_v2/feature_vector/4\"\n",
    "\n",
    "pretrained_model_without_top_layer = hub.KerasLayer(\n",
    "    feature_extractor_model, input_shape=(224, 224, 3), trainable=False)"
   ]
  },
  {
   "cell_type": "code",
   "execution_count": 75,
   "metadata": {},
   "outputs": [
    {
     "name": "stdout",
     "output_type": "stream",
     "text": [
      "Model: \"sequential_41\"\n",
      "_________________________________________________________________\n",
      " Layer (type)                Output Shape              Param #   \n",
      "=================================================================\n",
      " keras_layer_8 (KerasLayer)  (None, 1280)              2257984   \n",
      "                                                                 \n",
      " dense_37 (Dense)            (None, 5)                 6405      \n",
      "                                                                 \n",
      "=================================================================\n",
      "Total params: 2264389 (8.64 MB)\n",
      "Trainable params: 6405 (25.02 KB)\n",
      "Non-trainable params: 2257984 (8.61 MB)\n",
      "_________________________________________________________________\n"
     ]
    }
   ],
   "source": [
    "number_of_classes = 5\n",
    "\n",
    "model = tf.keras.Sequential([\n",
    "  pretrained_model_without_top_layer,\n",
    "  tf.keras.layers.Dense(number_of_classes)\n",
    "])\n",
    "\n",
    "model.summary()"
   ]
  },
  {
   "cell_type": "code",
   "execution_count": 76,
   "metadata": {},
   "outputs": [
    {
     "name": "stdout",
     "output_type": "stream",
     "text": [
      "Epoch 1/5\n",
      "13/13 [==============================] - 7s 316ms/step - loss: 1.1218 - acc: 0.5542\n",
      "Epoch 2/5\n",
      "13/13 [==============================] - 4s 313ms/step - loss: 0.3619 - acc: 0.9395\n",
      "Epoch 3/5\n",
      "13/13 [==============================] - 4s 327ms/step - loss: 0.1845 - acc: 0.9748\n",
      "Epoch 4/5\n",
      "13/13 [==============================] - 4s 340ms/step - loss: 0.1244 - acc: 0.9773\n",
      "Epoch 5/5\n",
      "13/13 [==============================] - 4s 325ms/step - loss: 0.0929 - acc: 0.9849\n"
     ]
    },
    {
     "data": {
      "text/plain": [
       "<keras.src.callbacks.History at 0x7fb30003dbb0>"
      ]
     },
     "execution_count": 76,
     "metadata": {},
     "output_type": "execute_result"
    }
   ],
   "source": [
    "model.compile(\n",
    "  optimizer=\"adam\",\n",
    "  loss=tf.keras.losses.SparseCategoricalCrossentropy(from_logits=True),\n",
    "  metrics=['acc'])\n",
    "\n",
    "model.fit(X_train_scaled, y_train, epochs=5)\n"
   ]
  },
  {
   "cell_type": "code",
   "execution_count": 77,
   "metadata": {},
   "outputs": [
    {
     "name": "stdout",
     "output_type": "stream",
     "text": [
      "1/1 [==============================] - 0s 485ms/step - loss: 0.0694 - acc: 1.0000\n"
     ]
    },
    {
     "data": {
      "text/plain": [
       "[0.069444939494133, 1.0]"
      ]
     },
     "execution_count": 77,
     "metadata": {},
     "output_type": "execute_result"
    }
   ],
   "source": [
    "model.evaluate(X_test_scaled,y_test)"
   ]
  },
  {
   "cell_type": "code",
   "execution_count": 78,
   "metadata": {},
   "outputs": [],
   "source": [
    "model.save_weights('my_model_weights.h5')\n"
   ]
  },
  {
   "cell_type": "code",
   "execution_count": 79,
   "metadata": {},
   "outputs": [
    {
     "name": "stdout",
     "output_type": "stream",
     "text": [
      "1/1 [==============================] - 0s 386ms/step\n",
      "['destroyedbuilding']\n"
     ]
    }
   ],
   "source": [
    "import numpy as np\n",
    "import cv2\n",
    "from tensorflow.keras.models import load_model\n",
    "\n",
    "# Define the path to the image\n",
    "\n",
    "image_path = 'dataset_eyrc/DestroyedBuildings/1.jpeg'\n",
    "\n",
    "# Load your model\n",
    "# loaded_model = load_model('my_model_weights.h5')\n",
    "# image_path = glob.glob('dataset_eyrc/DestroyedBuildings/1.jpeg')\n",
    "# Load and preprocess the image\n",
    "image = cv2.imread(image_path)\n",
    "# Resize the image to match the expected input shape of your model\n",
    "image = cv2.resize(image, (224, 224))\n",
    "image = image/255\n",
    "# You may need to further preprocess the image according to your model's requirements.\n",
    "\n",
    "# Make predictions\n",
    "predictions = model.predict(np.expand_dims(image, axis=0))\n",
    "\n",
    "\n",
    "# Find the predicted class\n",
    "predicted_classes = np.argmax(predictions, axis=1)\n",
    "\n",
    "# Define a class mapping\n",
    "class_mapping = {0: 'combat', 1: 'destroyedbuilding', 2: 'Fire', 3: 'humanitarianaid', 4: 'militaryvehicles'}\n",
    "\n",
    "# Map the predicted class to its corresponding label\n",
    "event = [class_mapping[prediction] for prediction in predicted_classes]\n",
    "\n",
    "# Print the result\n",
    "print(event)\n"
   ]
  }
 ],
 "metadata": {
  "kernelspec": {
   "display_name": "GG_1289",
   "language": "python",
   "name": "gg_1289"
  },
  "language_info": {
   "codemirror_mode": {
    "name": "ipython",
    "version": 3
   },
   "file_extension": ".py",
   "mimetype": "text/x-python",
   "name": "python",
   "nbconvert_exporter": "python",
   "pygments_lexer": "ipython3",
   "version": "3.9.18"
  }
 },
 "nbformat": 4,
 "nbformat_minor": 2
}
