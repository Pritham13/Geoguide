{
 "cells": [
  {
   "cell_type": "code",
   "execution_count": 1,
   "id": "b58083c0-dd7a-4317-8d6e-7c1fa41a22f3",
   "metadata": {},
   "outputs": [],
   "source": [
    "import torch\n",
    "import torch.nn as nn\n",
    "import numpy as np\n",
    "from torch.optim import SGD\n",
    "import matplotlib.pyplot as plt"
   ]
  },
  {
   "cell_type": "code",
   "execution_count": 14,
   "id": "8037c7ab-89ef-43ca-b679-dc14be69eb3d",
   "metadata": {},
   "outputs": [],
   "source": [
    "x = torch.tensor([[6,2],[5,2],[1,3],[7,6]]).float()\n",
    "y = torch.tensor([1,5,2,5]).float()\n",
    "\n",
    "class MyNeuralNetwork(nn.Module):\n",
    "    def __init__(self):\n",
    "        super().__init__()\n",
    "        self.M1= nn.Linear(2,80,bias=True)\n",
    "        self.M2 = nn.Linear(80,80,bias=True)\n",
    "        self.M3 = nn.Linear(80,1,bias = True)\n",
    "        self.R = nn.ReLU() \n",
    "\n",
    "    def forward(self,x):\n",
    "        x = self.R(self.M1(x))\n",
    "        x = self.R(self.M2(x))\n",
    "        x = self.M3(x)\n",
    "        return x.squeeze()\n",
    "        \n",
    "model = MyNeuralNetwork()\n",
    "opt = SGD(model.parameters(),lr = 0.001)\n",
    "Loss = nn.MSELoss()\n",
    "\n",
    "losses = []\n",
    "for i in range(5000):\n",
    "    opt.zero_grad()#flush previous epoch's gradient\n",
    "    loss_value = Loss(model(x),y)#compute loss\n",
    "    loss_value.backward()#compute gradient\n",
    "    opt.step()#perform iteration using gradient above\n",
    "    losses.append(loss_value.item())     "
   ]
  },
  {
   "cell_type": "code",
   "execution_count": 15,
   "id": "a0649a2b-468d-4493-adb5-79d210a1d5c1",
   "metadata": {},
   "outputs": [
    {
     "data": {
      "text/plain": [
       "tensor([0.9952, 4.9692, 1.9960, 4.9868], grad_fn=<SqueezeBackward0>)"
      ]
     },
     "execution_count": 15,
     "metadata": {},
     "output_type": "execute_result"
    }
   ],
   "source": [
    "model.forward(x)"
   ]
  },
  {
   "cell_type": "code",
   "execution_count": 16,
   "id": "19fb2c9a-e7e2-46f4-81ac-17eb9ec6e29b",
   "metadata": {},
   "outputs": [
    {
     "data": {
      "text/plain": [
       "tensor([1., 5., 2., 5.])"
      ]
     },
     "execution_count": 16,
     "metadata": {},
     "output_type": "execute_result"
    }
   ],
   "source": [
    "y"
   ]
  },
  {
   "cell_type": "code",
   "execution_count": null,
   "id": "c33f878a-296e-45ac-bc87-d1f71ee63619",
   "metadata": {},
   "outputs": [],
   "source": []
  }
 ],
 "metadata": {
  "kernelspec": {
   "display_name": "GG_9999",
   "language": "python",
   "name": "gg_9999"
  },
  "language_info": {
   "codemirror_mode": {
    "name": "ipython",
    "version": 3
   },
   "file_extension": ".py",
   "mimetype": "text/x-python",
   "name": "python",
   "nbconvert_exporter": "python",
   "pygments_lexer": "ipython3",
   "version": "3.9.18"
  }
 },
 "nbformat": 4,
 "nbformat_minor": 5
}
