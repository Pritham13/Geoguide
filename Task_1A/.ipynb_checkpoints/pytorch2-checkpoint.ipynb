{
 "cells": [
  {
   "cell_type": "code",
   "execution_count": 2,
   "id": "a0243d20-d44d-4a67-a856-115dce6b6fd2",
   "metadata": {},
   "outputs": [],
   "source": [
    "import torch\n",
    "import torch.nn as nn\n",
    "from torch.optim import SGD\n",
    "import numpy as np\n",
    "import matplotlib.pyplot as plt"
   ]
  },
  {
   "cell_type": "code",
   "execution_count": 5,
   "id": "fdb43d51-0683-46ee-acc2-5d797faeb6cc",
   "metadata": {},
   "outputs": [],
   "source": [
    "x = torch.tensor([[6,2],[5,2],[1,3],[7,6]]).float()\n",
    "y = torch.tensor([1,5,2,5]).float()"
   ]
  },
  {
   "cell_type": "code",
   "execution_count": 8,
   "id": "4543a232-6c0d-45cd-b3da-056a36e70815",
   "metadata": {},
   "outputs": [
    {
     "data": {
      "text/plain": [
       "Linear(in_features=2, out_features=8, bias=False)"
      ]
     },
     "execution_count": 8,
     "metadata": {},
     "output_type": "execute_result"
    }
   ],
   "source": [
    "M1 = nn.Linear(2,8,bias=False)\n",
    "M1"
   ]
  },
  {
   "cell_type": "code",
   "execution_count": 9,
   "id": "456358ef-8f40-4f9b-bb37-fa7e40a42ebc",
   "metadata": {},
   "outputs": [
    {
     "data": {
      "text/plain": [
       "tensor([[-0.1858, -1.5717,  4.2956, -3.7379,  4.0752,  1.1734,  1.0086, -0.5592],\n",
       "        [-0.1814, -1.1941,  3.7520, -3.0326,  3.4574,  0.8526,  0.8317, -0.2305],\n",
       "        [-0.2440,  0.6628,  2.0945,  0.0358,  1.1705, -0.8063,  0.0978,  1.7910],\n",
       "        [-0.5097, -0.5620,  6.9071, -3.4550,  5.4300, -0.0086,  1.0800,  1.9384]],\n",
       "       grad_fn=<MmBackward0>)"
      ]
     },
     "execution_count": 9,
     "metadata": {},
     "output_type": "execute_result"
    }
   ],
   "source": [
    "M1(x)"
   ]
  },
  {
   "cell_type": "code",
   "execution_count": 16,
   "id": "1a7e436e-aa08-4c30-9e85-94b311c22a30",
   "metadata": {},
   "outputs": [
    {
     "data": {
      "text/plain": [
       "Linear(in_features=8, out_features=1, bias=False)"
      ]
     },
     "execution_count": 16,
     "metadata": {},
     "output_type": "execute_result"
    }
   ],
   "source": [
    "M2 = nn.Linear(8,1,bias = False)\n",
    "M2"
   ]
  },
  {
   "cell_type": "code",
   "execution_count": 12,
   "id": "6ac6194a-e799-4e4e-93a9-70696b8aea22",
   "metadata": {},
   "outputs": [
    {
     "data": {
      "text/plain": [
       "tensor([-1.0905, -0.9467, -0.4848, -1.6890], grad_fn=<SqueezeBackward0>)"
      ]
     },
     "execution_count": 12,
     "metadata": {},
     "output_type": "execute_result"
    }
   ],
   "source": [
    "M2(M1(x)).squeeze()"
   ]
  },
  {
   "cell_type": "code",
   "execution_count": 13,
   "id": "c2efede4-ae60-47e6-98db-88a4d1cdcc4d",
   "metadata": {},
   "outputs": [],
   "source": [
    "class MyNeuralNetwork(nn.Module):\n",
    "    def __init__(self):\n",
    "        super().__init__()\n",
    "        self.M1= nn.Linear(2,8,bias=False)\n",
    "        self.M2 = nn.Linear(8,1,bias = False)\n",
    "\n",
    "    def forward(self,x):\n",
    "        x = self.M1(x)\n",
    "        x = self.M2(x)\n",
    "        return x.squeeze() "
   ]
  },
  {
   "cell_type": "code",
   "execution_count": 23,
   "id": "970474ec-a085-4684-aa66-7f174e589894",
   "metadata": {},
   "outputs": [],
   "source": [
    "model = MyNeuralNetwork()\n",
    "y_pred = model.forward(x)"
   ]
  },
  {
   "cell_type": "code",
   "execution_count": 24,
   "id": "026ef31f-26ac-4325-84e1-12843edfe4ee",
   "metadata": {},
   "outputs": [
    {
     "name": "stdout",
     "output_type": "stream",
     "text": [
      "Parameter containing:\n",
      "tensor([[ 0.3936, -0.1550],\n",
      "        [ 0.3113, -0.6864],\n",
      "        [ 0.2090, -0.6438],\n",
      "        [-0.2012, -0.6084],\n",
      "        [-0.2924,  0.2707],\n",
      "        [-0.6956, -0.3017],\n",
      "        [-0.5238,  0.0902],\n",
      "        [ 0.5329, -0.5569]], requires_grad=True)\n",
      "Parameter containing:\n",
      "tensor([[ 0.0409, -0.3110, -0.2392,  0.1820, -0.2641, -0.2178, -0.0918,  0.1302]],\n",
      "       requires_grad=True)\n"
     ]
    }
   ],
   "source": [
    "for par in model.parameters():\n",
    "    print(par)"
   ]
  },
  {
   "cell_type": "code",
   "execution_count": 25,
   "id": "ec1ed29c-8003-43ba-8b03-93f41d929e1b",
   "metadata": {},
   "outputs": [
    {
     "data": {
      "text/plain": [
       "tensor(5.9633, grad_fn=<MseLossBackward0>)"
      ]
     },
     "execution_count": 25,
     "metadata": {},
     "output_type": "execute_result"
    }
   ],
   "source": [
    "Loss = nn.MSELoss()\n",
    "Loss(y,y_pred)"
   ]
  },
  {
   "cell_type": "code",
   "execution_count": 33,
   "id": "5f00ba45-11cf-4667-9c0c-dd9b07c2f26b",
   "metadata": {},
   "outputs": [
    {
     "data": {
      "text/plain": [
       "tensor(5.9633, grad_fn=<MeanBackward0>)"
      ]
     },
     "execution_count": 33,
     "metadata": {},
     "output_type": "execute_result"
    }
   ],
   "source": [
    "torch.mean((y-y_pred)**2)"
   ]
  },
  {
   "cell_type": "code",
   "execution_count": 34,
   "id": "d45925cf-8efa-4dd1-893a-291615978f72",
   "metadata": {},
   "outputs": [],
   "source": [
    "opt = SGD(model.parameters(),lr = 0.001)"
   ]
  },
  {
   "cell_type": "code",
   "execution_count": 45,
   "id": "b688981d-252e-40c4-ba0e-5ef47fae349d",
   "metadata": {},
   "outputs": [],
   "source": [
    "losses = []\n",
    "for i in range(50):\n",
    "    opt.zero_grad()#flush previous epoch's gradient\n",
    "    loss_value = Loss(model(x),y)#compute loss\n",
    "    loss_value.backward()#compute gradient\n",
    "    opt.step()#perform iteration using gradient above\n",
    "    losses.append(loss_value.item())     "
   ]
  },
  {
   "cell_type": "code",
   "execution_count": 46,
   "id": "64fef0fd-db20-42a1-884e-98be5433acb2",
   "metadata": {},
   "outputs": [
    {
     "data": {
      "text/plain": [
       "Text(0.5, 0, 'epcohs')"
      ]
     },
     "execution_count": 46,
     "metadata": {},
     "output_type": "execute_result"
    },
    {
     "data": {
      "image/png": "[encoded data removed]",
      "text/plain": [
       "<Figure size 640x480 with 1 Axes>"
      ]
     },
     "metadata": {},
     "output_type": "display_data"
    }
   ],
   "source": [
    "plt.plot(losses)\n",
    "plt.ylabel(\"LOSS\")\n",
    "plt.xlabel(\"epcohs\")"
   ]
  },
  {
   "cell_type": "code",
   "execution_count": 39,
   "id": "ea231d11-3925-4c90-83fa-c9757fdf8fe2",
   "metadata": {},
   "outputs": [
    {
     "data": {
      "text/plain": [
       "tensor([3.0301, 2.6657, 1.6302, 5.0823], grad_fn=<SqueezeBackward0>)"
      ]
     },
     "execution_count": 39,
     "metadata": {},
     "output_type": "execute_result"
    }
   ],
   "source": [
    "model(x)\n"
   ]
  },
  {
   "cell_type": "code",
   "execution_count": 40,
   "id": "110fecc3-720a-408b-9420-eb2cbea3c314",
   "metadata": {},
   "outputs": [
    {
     "data": {
      "text/plain": [
       "tensor([1., 5., 2., 5.])"
      ]
     },
     "execution_count": 40,
     "metadata": {},
     "output_type": "execute_result"
    }
   ],
   "source": [
    "y"
   ]
  },
  {
   "cell_type": "code",
   "execution_count": null,
   "id": "d675e981-3d3c-4232-ac9d-6d7c9079368e",
   "metadata": {},
   "outputs": [],
   "source": []
  }
 ],
 "metadata": {
  "kernelspec": {
   "display_name": "GG_9999",
   "language": "python",
   "name": "gg_9999"
  },
  "language_info": {
   "codemirror_mode": {
    "name": "ipython",
    "version": 3
   },
   "file_extension": ".py",
   "mimetype": "text/x-python",
   "name": "python",
   "nbconvert_exporter": "python",
   "pygments_lexer": "ipython3",
   "version": "3.9.18"
  }
 },
 "nbformat": 4,
 "nbformat_minor": 5
}
