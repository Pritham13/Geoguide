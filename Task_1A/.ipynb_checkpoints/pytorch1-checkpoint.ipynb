{
 "cells": [
  {
   "cell_type": "markdown",
   "id": "3a610aae-19d1-4762-928d-de9639b84489",
   "metadata": {},
   "source": [
    "# COMPARING NUMPY AND PYTORCH"
   ]
  },
  {
   "cell_type": "code",
   "execution_count": 3,
   "id": "392af7f0-b4b1-40b0-906e-3b14ba4bb868",
   "metadata": {},
   "outputs": [
    {
     "name": "stderr",
     "output_type": "stream",
     "text": [
      "Matplotlib is building the font cache; this may take a moment.\n"
     ]
    }
   ],
   "source": [
    "import torch \n",
    "import numpy as np\n",
    "import matplotlib.pyplot as plt\n",
    "import torch.nn as nn\n",
    "import time"
   ]
  },
  {
   "cell_type": "markdown",
   "id": "9daccafa-37ba-422f-8bba-c75ebc5599da",
   "metadata": {},
   "source": [
    "# For generating an array in both numpy and pytorch which has equally spaced values between a particular range"
   ]
  },
  {
   "cell_type": "code",
   "execution_count": 45,
   "id": "5c759d3c-bad2-41ec-a1a3-22095429bbdd",
   "metadata": {},
   "outputs": [],
   "source": [
    "n = np.linspace(0,1,5)             \n",
    "t = torch.linspace(0,1,5)"
   ]
  },
  {
   "cell_type": "markdown",
   "id": "c77165cb-bc73-4708-9cd2-188dcdd8a787",
   "metadata": {},
   "source": [
    "# FOR GENERATING A TENSOR TILL A RANGE OF VALUES AND RESHAPING IT  "
   ]
  },
  {
   "cell_type": "code",
   "execution_count": 31,
   "id": "26aa7628-66fc-4924-b3d0-6905978d438b",
   "metadata": {},
   "outputs": [
    {
     "name": "stdout",
     "output_type": "stream",
     "text": [
      "tensor([[ 0,  1,  2,  3,  4,  5,  6,  7,  8,  9, 10, 11, 12, 13, 14, 15, 16, 17,\n",
      "         18, 19, 20, 21, 22, 23, 24, 25, 26, 27, 28, 29, 30, 31, 32, 33, 34, 35,\n",
      "         36, 37, 38, 39, 40, 41, 42, 43, 44, 45, 46, 47]])\n",
      "tensor([ 0,  1,  2,  3,  4,  5,  6,  7,  8,  9, 10, 11, 12, 13, 14, 15, 16, 17,\n",
      "        18, 19, 20, 21, 22, 23, 24, 25, 26, 27, 28, 29, 30, 31, 32, 33, 34, 35,\n",
      "        36, 37, 38, 39, 40, 41, 42, 43, 44, 45, 46, 47])\n"
     ]
    }
   ],
   "source": [
    "t = torch.arange(48).reshape(1,48)\n",
    "print(t)\n",
    "to = torch.arange(48)\n",
    "print(to)"
   ]
  },
  {
   "cell_type": "code",
   "execution_count": 21,
   "id": "080a60b1-c5a7-4640-bcdc-4c9d5d90c8e6",
   "metadata": {},
   "outputs": [],
   "source": [
    "a = np.arange(16).reshape(4,4)\n",
    "b = np.arange(16,32).reshape(4,4)\n"
   ]
  },
  {
   "cell_type": "code",
   "execution_count": 43,
   "id": "9cec7de2-1ebc-4e76-9f55-a9f2b7568bd6",
   "metadata": {},
   "outputs": [
    {
     "name": "stdout",
     "output_type": "stream",
     "text": [
      "tensor([[2., 3., 4.],\n",
      "        [2., 3., 4.],\n",
      "        [2., 3., 4.]])\n"
     ]
    }
   ],
   "source": [
    "a = torch.ones(3,3)\n",
    "b = torch.arange(1,4).reshape(1,3)\n",
    "print(b+a)"
   ]
  },
  {
   "cell_type": "code",
   "execution_count": 69,
   "id": "6d3bf901-ce30-4e88-b9b7-f66c1dc7efab",
   "metadata": {},
   "outputs": [
    {
     "name": "stderr",
     "output_type": "stream",
     "text": [
      "Clipping input data to the valid range for imshow with RGB data ([0..1] for floats or [0..255] for integers).\n"
     ]
    },
    {
     "data": {
      "text/plain": [
       "<matplotlib.image.AxesImage at 0x7fdfecf2f580>"
      ]
     },
     "execution_count": 69,
     "metadata": {},
     "output_type": "execute_result"
    },
    {
     "data": {
      "image/png": "[encoded data removed]",
      "text/plain": [
       "<Figure size 640x480 with 1 Axes>"
      ]
     },
     "metadata": {},
     "output_type": "display_data"
    }
   ],
   "source": [
    "Scale = torch.tensor([0.5,0.75,1]).reshape(1,3)\n",
    "Image = torch.randn(28*28*3).reshape(28,28,3)\n",
    "plt.imshow(Image)"
   ]
  },
  {
   "cell_type": "code",
   "execution_count": 73,
   "id": "48888eed-100b-4e07-8330-ed778dbe6155",
   "metadata": {},
   "outputs": [
    {
     "name": "stderr",
     "output_type": "stream",
     "text": [
      "Clipping input data to the valid range for imshow with RGB data ([0..1] for floats or [0..255] for integers).\n"
     ]
    },
    {
     "data": {
      "text/plain": [
       "<matplotlib.image.AxesImage at 0x7fdfbc2c9700>"
      ]
     },
     "execution_count": 73,
     "metadata": {},
     "output_type": "execute_result"
    },
    {
     "data": {
      "image/png": "[encoded data removed]",
      "text/plain": [
       "<Figure size 640x480 with 1 Axes>"
      ]
     },
     "metadata": {},
     "output_type": "display_data"
    }
   ],
   "source": [
    "plt.imshow(Image*Scale)"
   ]
  },
  {
   "cell_type": "markdown",
   "id": "9bdbacd2-5771-422b-81f6-3192eb922f31",
   "metadata": {},
   "source": [
    "# MEAN, STANDARD DEVIATION, MAX AND MIN ELEMENTS"
   ]
  },
  {
   "cell_type": "code",
   "execution_count": 75,
   "id": "fef646b4-f62a-4da5-aca8-17cea89dfd38",
   "metadata": {},
   "outputs": [
    {
     "data": {
      "text/plain": [
       "(tensor(0.5000), tensor(0.3953), tensor(1.), tensor(0.))"
      ]
     },
     "execution_count": 75,
     "metadata": {},
     "output_type": "execute_result"
    }
   ],
   "source": [
    " tensor1 = torch.linspace(0,1,5)\n",
    "torch.mean(tensor1), torch.std(tensor1), torch.max(tensor1), torch.min(tensor1)"
   ]
  },
  {
   "cell_type": "code",
   "execution_count": 81,
   "id": "756eeb5a-b00a-4022-bfc9-c093835b641e",
   "metadata": {},
   "outputs": [
    {
     "data": {
      "text/plain": [
       "tensor([[ 0.,  1.,  2.,  3.],\n",
       "        [ 4.,  5.,  6.,  7.],\n",
       "        [ 8.,  9., 10., 11.],\n",
       "        [12., 13., 14., 15.],\n",
       "        [16., 17., 18., 19.]], dtype=torch.float64)"
      ]
     },
     "execution_count": 81,
     "metadata": {},
     "output_type": "execute_result"
    }
   ],
   "source": [
    "tensor2 = torch.arange(20,dtype=float).reshape(5,4)\n",
    "tensor2"
   ]
  },
  {
   "cell_type": "code",
   "execution_count": 83,
   "id": "d561fbc6-4af1-42e8-b140-f0900b2da8aa",
   "metadata": {},
   "outputs": [
    {
     "data": {
      "text/plain": [
       "(tensor([ 8.,  9., 10., 11.], dtype=torch.float64),\n",
       " tensor([ 1.5000,  5.5000,  9.5000, 13.5000, 17.5000], dtype=torch.float64),\n",
       " tensor(9.5000, dtype=torch.float64))"
      ]
     },
     "execution_count": 83,
     "metadata": {},
     "output_type": "execute_result"
    }
   ],
   "source": [
    "torch.mean(tensor2,axis=0),torch.mean(tensor2,axis=1),torch.mean(tensor2)"
   ]
  },
  {
   "cell_type": "code",
   "execution_count": 96,
   "id": "e5e27409-dfe6-487c-8a83-22613ac020ec",
   "metadata": {
    "scrolled": true
   },
   "outputs": [
    {
     "data": {
      "text/plain": [
       "torch.Size([25, 25, 3])"
      ]
     },
     "execution_count": 96,
     "metadata": {},
     "output_type": "execute_result"
    }
   ],
   "source": [
    "tensor2 = torch.randn(5,25,25,3)\n",
    "image = torch.mean(tensor2,axis=0)\n",
    "torch.mean(tensor2,axis=0).shape"
   ]
  },
  {
   "cell_type": "code",
   "execution_count": 104,
   "id": "366519e6-bb4a-4792-acbd-c91887e1a52c",
   "metadata": {},
   "outputs": [
    {
     "data": {
      "text/plain": [
       "tensor([[[1, 0, 1,  ..., 1, 0, 1],\n",
       "         [0, 1, 2,  ..., 0, 1, 1],\n",
       "         [1, 1, 2,  ..., 0, 2, 0],\n",
       "         ...,\n",
       "         [1, 1, 0,  ..., 0, 1, 1],\n",
       "         [2, 0, 2,  ..., 2, 1, 0],\n",
       "         [0, 0, 1,  ..., 0, 1, 1]],\n",
       "\n",
       "        [[1, 0, 2,  ..., 1, 2, 2],\n",
       "         [2, 1, 1,  ..., 0, 0, 1],\n",
       "         [1, 0, 2,  ..., 0, 2, 2],\n",
       "         ...,\n",
       "         [0, 0, 2,  ..., 0, 1, 1],\n",
       "         [1, 2, 1,  ..., 1, 0, 2],\n",
       "         [1, 1, 1,  ..., 2, 0, 1]],\n",
       "\n",
       "        [[2, 2, 0,  ..., 1, 0, 1],\n",
       "         [2, 1, 0,  ..., 1, 0, 1],\n",
       "         [2, 0, 2,  ..., 1, 0, 1],\n",
       "         ...,\n",
       "         [2, 1, 2,  ..., 1, 0, 0],\n",
       "         [2, 0, 2,  ..., 1, 0, 2],\n",
       "         [2, 2, 1,  ..., 0, 1, 1]],\n",
       "\n",
       "        [[0, 2, 2,  ..., 1, 0, 0],\n",
       "         [1, 0, 1,  ..., 0, 1, 0],\n",
       "         [1, 0, 1,  ..., 0, 1, 1],\n",
       "         ...,\n",
       "         [1, 0, 1,  ..., 1, 1, 2],\n",
       "         [2, 2, 1,  ..., 0, 1, 0],\n",
       "         [1, 2, 1,  ..., 2, 1, 1]],\n",
       "\n",
       "        [[2, 2, 1,  ..., 0, 2, 0],\n",
       "         [1, 0, 0,  ..., 2, 2, 1],\n",
       "         [0, 2, 0,  ..., 2, 0, 0],\n",
       "         ...,\n",
       "         [2, 1, 0,  ..., 2, 0, 1],\n",
       "         [2, 0, 2,  ..., 2, 0, 1],\n",
       "         [0, 0, 1,  ..., 1, 0, 2]]])"
      ]
     },
     "execution_count": 104,
     "metadata": {},
     "output_type": "execute_result"
    }
   ],
   "source": [
    "torch.max(tensor2,axis=-1).indices"
   ]
  },
  {
   "cell_type": "code",
   "execution_count": null,
   "id": "9848a3bd-5256-4563-a755-ca512b658b47",
   "metadata": {},
   "outputs": [],
   "source": []
  }
 ],
 "metadata": {
  "kernelspec": {
   "display_name": "GG_9999",
   "language": "python",
   "name": "gg_9999"
  },
  "language_info": {
   "codemirror_mode": {
    "name": "ipython",
    "version": 3
   },
   "file_extension": ".py",
   "mimetype": "text/x-python",
   "name": "python",
   "nbconvert_exporter": "python",
   "pygments_lexer": "ipython3",
   "version": "3.9.18"
  }
 },
 "nbformat": 4,
 "nbformat_minor": 5
}
